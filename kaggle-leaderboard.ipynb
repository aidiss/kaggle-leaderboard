{
 "cells": [
  {
   "cell_type": "code",
   "execution_count": 2,
   "metadata": {
    "collapsed": true
   },
   "outputs": [],
   "source": [
    "import requests\n",
    "import bs4 as BeautifulSoup\n",
    "import pandas as pd\n",
    "import seaborn as sns\n",
    "%matplotlib inline"
   ]
  },
  {
   "cell_type": "code",
   "execution_count": null,
   "metadata": {
    "collapsed": true
   },
   "outputs": [],
   "source": [
    "competition_name = 'house-prices-advanced-regression-techniques'\n",
    "#competition_name = 'allstate-claims-severity'"
   ]
  },
  {
   "cell_type": "code",
   "execution_count": 3,
   "metadata": {
    "collapsed": false
   },
   "outputs": [],
   "source": [
    "def get_leaderboard_table(competition_name):\n",
    "    r = requests.get('https://www.kaggle.com/c/{}/leaderboard'.format(competition_name))\n",
    "    soup = BeautifulSoup.BeautifulSoup(r.text, 'html.parser')\n",
    "    table = soup.findAll('table', id='leaderboard-table')[0]\n",
    "    return table"
   ]
  },
  {
   "cell_type": "code",
   "execution_count": 171,
   "metadata": {
    "collapsed": false
   },
   "outputs": [],
   "source": [
    "def scrap_type1(table):\n",
    "    l = []\n",
    "    for x in table.findAll('tr'):\n",
    "        d = ()\n",
    "        if x.find('a', class_=\"team-link single-player\"):\n",
    "            b = x.find('a', class_=\"team-link single-player\") # todo: neranda komandu\n",
    "\n",
    "            score = x.find('abbr',class_=\"score\")\n",
    "            submits = x.findAll('td')[4].text\n",
    "\n",
    "            abbr = x.findAll('td')[5].find('abbr')['title']\n",
    "            last_submission = abbr.split(': ')[1].strip().split(r' (')[0]\n",
    "            best_submission = abbr.split(': ')[2].strip().split(r' (')[0]\n",
    "\n",
    "            d = (b.text.strip(), float(score.text), int(submits), last_submission, best_submission)\n",
    "\n",
    "            l.append(d)\n",
    "    return l"
   ]
  },
  {
   "cell_type": "code",
   "execution_count": 241,
   "metadata": {
    "collapsed": false
   },
   "outputs": [],
   "source": [
    "def scrap_type2(table):\n",
    "    l = []\n",
    "    for x in table.findAll('tr')[1:]:\n",
    "        d = ()\n",
    "        team_id = x.attrs.get('id')\n",
    "        leader_number = x.find('td', class_='leader-number').text\n",
    "        teamlink_singleplayer = ''\n",
    "        teamlink_teamplayer = ''\n",
    "        if x.find('a', class_='team-link single-player'):\n",
    "            teamlink_singleplayer = x.find('a', class_='team-link single-player').text\n",
    "        else: \n",
    "            teamlink_teamplayer = x.find('a', class_='team-link team-player')\n",
    "        team_members = [x.text for x in x.findAll('a', class_='profilelink')]\n",
    "        score = x.find('abbr', class_=\"score\")\n",
    "        submits = x.findAll('td')[4].text\n",
    "        \n",
    "        #nepagauna abbr, todel negalima pagaut last ir best submission\n",
    "        #abbr = x.findAll('td')[5].find('abbr')['title']\n",
    "        #last_submission = abbr.split(': ')[1].strip().split(r' (')[0]\n",
    "        #best_submission = abbr.split(': ')[2].strip().split(r' (')[0]\n",
    "        l.append([team_id, leader_number, teamlink_singleplayer.strip(), ', '.join(team_members), submits])\n",
    "    return l"
   ]
  },
  {
   "cell_type": "code",
   "execution_count": 206,
   "metadata": {
    "collapsed": true
   },
   "outputs": [],
   "source": [
    "table = get_leaderboard_table(competition_name)"
   ]
  },
  {
   "cell_type": "code",
   "execution_count": 239,
   "metadata": {
    "collapsed": false
   },
   "outputs": [
    {
     "data": {
      "text/html": [
       "<div>\n",
       "<table border=\"1\" class=\"dataframe\">\n",
       "  <thead>\n",
       "    <tr style=\"text-align: right;\">\n",
       "      <th></th>\n",
       "      <th>0</th>\n",
       "      <th>1</th>\n",
       "      <th>2</th>\n",
       "      <th>3</th>\n",
       "      <th>4</th>\n",
       "    </tr>\n",
       "  </thead>\n",
       "  <tbody>\n",
       "    <tr>\n",
       "      <th>0</th>\n",
       "      <td>Prakhar Pandey</td>\n",
       "      <td>0.10677</td>\n",
       "      <td>17</td>\n",
       "      <td>Fri, 07 Oct 2016 12:20:05</td>\n",
       "      <td>Fri, 07 Oct 2016 12:20:05</td>\n",
       "    </tr>\n",
       "    <tr>\n",
       "      <th>1</th>\n",
       "      <td>andrewoohoo</td>\n",
       "      <td>0.10683</td>\n",
       "      <td>3</td>\n",
       "      <td>Mon, 12 Sep 2016 19:23:52</td>\n",
       "      <td>Mon, 12 Sep 2016 19:23:52</td>\n",
       "    </tr>\n",
       "    <tr>\n",
       "      <th>2</th>\n",
       "      <td>prakhar_dwdm</td>\n",
       "      <td>0.10929</td>\n",
       "      <td>7</td>\n",
       "      <td>Sat, 08 Oct 2016 05:03:51</td>\n",
       "      <td>Fri, 07 Oct 2016 13:12:08</td>\n",
       "    </tr>\n",
       "    <tr>\n",
       "      <th>3</th>\n",
       "      <td>Attempts 2</td>\n",
       "      <td>0.11436</td>\n",
       "      <td>10</td>\n",
       "      <td>Thu, 06 Oct 2016 15:41:28</td>\n",
       "      <td>Thu, 06 Oct 2016 15:41:28</td>\n",
       "    </tr>\n",
       "    <tr>\n",
       "      <th>4</th>\n",
       "      <td>myhandel</td>\n",
       "      <td>0.11448</td>\n",
       "      <td>9</td>\n",
       "      <td>Fri, 07 Oct 2016 17:16:00</td>\n",
       "      <td>Fri, 07 Oct 2016 17:05:57</td>\n",
       "    </tr>\n",
       "  </tbody>\n",
       "</table>\n",
       "</div>"
      ],
      "text/plain": [
       "                0        1   2                          3  \\\n",
       "0  Prakhar Pandey  0.10677  17  Fri, 07 Oct 2016 12:20:05   \n",
       "1     andrewoohoo  0.10683   3  Mon, 12 Sep 2016 19:23:52   \n",
       "2    prakhar_dwdm  0.10929   7  Sat, 08 Oct 2016 05:03:51   \n",
       "3      Attempts 2  0.11436  10  Thu, 06 Oct 2016 15:41:28   \n",
       "4        myhandel  0.11448   9  Fri, 07 Oct 2016 17:16:00   \n",
       "\n",
       "                           4  \n",
       "0  Fri, 07 Oct 2016 12:20:05  \n",
       "1  Mon, 12 Sep 2016 19:23:52  \n",
       "2  Fri, 07 Oct 2016 13:12:08  \n",
       "3  Thu, 06 Oct 2016 15:41:28  \n",
       "4  Fri, 07 Oct 2016 17:05:57  "
      ]
     },
     "execution_count": 239,
     "metadata": {},
     "output_type": "execute_result"
    }
   ],
   "source": [
    "df = pd.DataFrame(scrap_type1(table))\n",
    "df.head()"
   ]
  },
  {
   "cell_type": "code",
   "execution_count": 243,
   "metadata": {
    "collapsed": false
   },
   "outputs": [
    {
     "data": {
      "text/html": [
       "<div>\n",
       "<table border=\"1\" class=\"dataframe\">\n",
       "  <thead>\n",
       "    <tr style=\"text-align: right;\">\n",
       "      <th></th>\n",
       "      <th>0</th>\n",
       "      <th>1</th>\n",
       "      <th>2</th>\n",
       "      <th>3</th>\n",
       "      <th>4</th>\n",
       "    </tr>\n",
       "  </thead>\n",
       "  <tbody>\n",
       "    <tr>\n",
       "      <th>0</th>\n",
       "      <td>team-371273</td>\n",
       "      <td>1</td>\n",
       "      <td></td>\n",
       "      <td>Prabhakar, sunilkandari</td>\n",
       "      <td>11</td>\n",
       "    </tr>\n",
       "    <tr>\n",
       "      <th>1</th>\n",
       "      <td>team-368306</td>\n",
       "      <td>2</td>\n",
       "      <td></td>\n",
       "      <td>J.deJager, RCharmmer</td>\n",
       "      <td>30</td>\n",
       "    </tr>\n",
       "    <tr>\n",
       "      <th>2</th>\n",
       "      <td>team-378210</td>\n",
       "      <td>3</td>\n",
       "      <td>Prakhar Pandey</td>\n",
       "      <td></td>\n",
       "      <td>17</td>\n",
       "    </tr>\n",
       "    <tr>\n",
       "      <th>3</th>\n",
       "      <td>team-370524</td>\n",
       "      <td>4</td>\n",
       "      <td>andrewoohoo</td>\n",
       "      <td></td>\n",
       "      <td>3</td>\n",
       "    </tr>\n",
       "    <tr>\n",
       "      <th>4</th>\n",
       "      <td>team-381597</td>\n",
       "      <td>5</td>\n",
       "      <td>prakhar_dwdm</td>\n",
       "      <td></td>\n",
       "      <td>7</td>\n",
       "    </tr>\n",
       "  </tbody>\n",
       "</table>\n",
       "</div>"
      ],
      "text/plain": [
       "             0  1               2                        3   4\n",
       "0  team-371273  1                  Prabhakar, sunilkandari  11\n",
       "1  team-368306  2                     J.deJager, RCharmmer  30\n",
       "2  team-378210  3  Prakhar Pandey                           17\n",
       "3  team-370524  4     andrewoohoo                            3\n",
       "4  team-381597  5    prakhar_dwdm                            7"
      ]
     },
     "execution_count": 243,
     "metadata": {},
     "output_type": "execute_result"
    }
   ],
   "source": [
    "df = pd.DataFrame(scrap_type2(table))\n",
    "df.head()"
   ]
  },
  {
   "cell_type": "markdown",
   "metadata": {},
   "source": [
    "# Slack integration"
   ]
  },
  {
   "cell_type": "markdown",
   "metadata": {},
   "source": [
    "https://realpython.com/blog/python/getting-started-with-the-slack-api-using-python-and-flask/"
   ]
  },
  {
   "cell_type": "markdown",
   "metadata": {},
   "source": [
    "https://extractjungle.slack.com/services/B2SGVNM6U?added=1"
   ]
  },
  {
   "cell_type": "raw",
   "metadata": {},
   "source": [
    "token=UtrHz4eRxvetqrfNfun1ziIu\n",
    "team_id=T0001\n",
    "team_domain=example\n",
    "channel_id=C2147483705\n",
    "channel_name=test\n",
    "user_id=U2147483697\n",
    "user_name=Steve\n",
    "command=/weather\n",
    "text=94070\n",
    "response_url=https://hooks.slack.com/commands/1234/5678"
   ]
  },
  {
   "cell_type": "code",
   "execution_count": 248,
   "metadata": {
    "collapsed": false
   },
   "outputs": [
    {
     "ename": "NameError",
     "evalue": "name 'app' is not defined",
     "output_type": "error",
     "traceback": [
      "\u001b[1;31m---------------------------------------------------------------------------\u001b[0m",
      "\u001b[1;31mNameError\u001b[0m                                 Traceback (most recent call last)",
      "\u001b[1;32m<ipython-input-248-f46b43d75eef>\u001b[0m in \u001b[0;36m<module>\u001b[1;34m()\u001b[0m\n\u001b[0;32m      5\u001b[0m \u001b[0mtoken\u001b[0m \u001b[1;33m=\u001b[0m \u001b[1;34m'UtrHz4eRxvetqrfNfun1ziIu'\u001b[0m\u001b[1;33m\u001b[0m\u001b[0m\n\u001b[0;32m      6\u001b[0m \u001b[1;33m\u001b[0m\u001b[0m\n\u001b[1;32m----> 7\u001b[1;33m \u001b[1;33m@\u001b[0m\u001b[0mapp\u001b[0m\u001b[1;33m.\u001b[0m\u001b[0mroute\u001b[0m\u001b[1;33m(\u001b[0m\u001b[1;34m'/kaggle-leaderboard'\u001b[0m\u001b[1;33m,\u001b[0m \u001b[0mmethods\u001b[0m \u001b[1;33m=\u001b[0m \u001b[1;33m[\u001b[0m\u001b[1;34m'POST'\u001b[0m\u001b[1;33m]\u001b[0m\u001b[1;33m)\u001b[0m\u001b[1;33m\u001b[0m\u001b[0m\n\u001b[0m\u001b[0;32m      8\u001b[0m \u001b[1;32mdef\u001b[0m \u001b[0mapi_message\u001b[0m\u001b[1;33m(\u001b[0m\u001b[1;33m)\u001b[0m\u001b[1;33m:\u001b[0m\u001b[1;33m\u001b[0m\u001b[0m\n\u001b[0;32m      9\u001b[0m     \u001b[1;32mreturn\u001b[0m \u001b[1;34m\"Hello world! Im blind!\"\u001b[0m\u001b[1;33m\u001b[0m\u001b[0m\n",
      "\u001b[1;31mNameError\u001b[0m: name 'app' is not defined"
     ]
    }
   ],
   "source": [
    "import flask\n",
    "from flask import request\n",
    "\n",
    "#kaggle integration token\n",
    "token = 'UtrHz4eRxvetqrfNfun1ziIu'\n",
    "\n",
    "@app.route('/kaggle-leaderboard', methods = ['POST'])\n",
    "def api_message():\n",
    "    return \"Hello world! Im blind!\""
   ]
  },
  {
   "cell_type": "markdown",
   "metadata": {},
   "source": [
    "# Plots"
   ]
  },
  {
   "cell_type": "code",
   "execution_count": 236,
   "metadata": {
    "collapsed": false
   },
   "outputs": [
    {
     "data": {
      "text/plain": [
       "<matplotlib.axes._subplots.AxesSubplot at 0x25a4a8d3668>"
      ]
     },
     "execution_count": 236,
     "metadata": {},
     "output_type": "execute_result"
    },
    {
     "data": {
      "image/png": "[encoded data removed]",
      "text/plain": [
       "<matplotlib.figure.Figure at 0x25a4a8c4c88>"
      ]
     },
     "metadata": {},
     "output_type": "display_data"
    }
   ],
   "source": [
    "df[1].head(900).plot(style='.', alpha=.3)\n",
    "df[2].head(900).plot(style='.', alpha=.5)"
   ]
  },
  {
   "cell_type": "code",
   "execution_count": 238,
   "metadata": {
    "collapsed": false
   },
   "outputs": [
    {
     "data": {
      "text/plain": [
       "<matplotlib.axes._subplots.AxesSubplot at 0x25a48d13588>"
      ]
     },
     "execution_count": 238,
     "metadata": {},
     "output_type": "execute_result"
    },
    {
     "data": {
      "image/png": "[encoded data removed]",
      "text/plain": [
       "<matplotlib.figure.Figure at 0x25a48d4c6d8>"
      ]
     },
     "metadata": {},
     "output_type": "display_data"
    }
   ],
   "source": [
    "df.head(800).plot(1, 2, kind='scatter',)"
   ]
  },
  {
   "cell_type": "code",
   "execution_count": 239,
   "metadata": {
    "collapsed": false
   },
   "outputs": [
    {
     "data": {
      "text/plain": [
       "<seaborn.axisgrid.PairGrid at 0x25a48daeeb8>"
      ]
     },
     "execution_count": 239,
     "metadata": {},
     "output_type": "execute_result"
    },
    {
     "data": {
      "image/png": "[encoded data removed]",
      "text/plain": [
       "<matplotlib.figure.Figure at 0x25a48d6e240>"
      ]
     },
     "metadata": {},
     "output_type": "display_data"
    }
   ],
   "source": [
    "%colors Linux\n",
    "sns.pairplot(df.head(800),)"
   ]
  },
  {
   "cell_type": "code",
   "execution_count": null,
   "metadata": {
    "collapsed": true
   },
   "outputs": [],
   "source": []
  }
 ],
 "metadata": {
  "kernelspec": {
   "display_name": "Python [Root]",
   "language": "python",
   "name": "Python [Root]"
  },
  "language_info": {
   "codemirror_mode": {
    "name": "ipython",
    "version": 3
   },
   "file_extension": ".py",
   "mimetype": "text/x-python",
   "name": "python",
   "nbconvert_exporter": "python",
   "pygments_lexer": "ipython3",
   "version": "3.5.2"
  }
 },
 "nbformat": 4,
 "nbformat_minor": 0
}
